{
  "nbformat": 4,
  "nbformat_minor": 0,
  "metadata": {
    "colab": {
      "provenance": [],
      "toc_visible": true,
      "authorship_tag": "ABX9TyO98bA6eOUGmCCuhbEb/3Aj",
      "include_colab_link": true
    },
    "kernelspec": {
      "name": "python3",
      "display_name": "Python 3"
    },
    "language_info": {
      "name": "python"
    }
  },
  "cells": [
    {
      "cell_type": "markdown",
      "metadata": {
        "id": "view-in-github",
        "colab_type": "text"
      },
      "source": [
        "<a href=\"https://colab.research.google.com/github/profdoc2/House-Prediction-Model/blob/main/stock_price_prediction.ipynb\" target=\"_parent\"><img src=\"https://colab.research.google.com/assets/colab-badge.svg\" alt=\"Open In Colab\"/></a>"
      ]
    },
    {
      "cell_type": "code",
      "execution_count": null,
      "metadata": {
        "colab": {
          "base_uri": "https://localhost:8080/"
        },
        "id": "yqSQznwKhZgh",
        "outputId": "e6ae2807-b84f-45e5-bcd9-8504ad8608ca"
      },
      "outputs": [
        {
          "output_type": "stream",
          "name": "stdout",
          "text": [
            "      Dividend Date Ex-Dividend Date             Earnings Date Earnings High  \\\n",
            "Value    2025-03-20       2025-03-06  [2025-04-28, 2025-05-02]          0.29   \n",
            "\n",
            "      Earnings Low Earnings Average Revenue High Revenue Low Revenue Average  \n",
            "Value         0.28            0.285    635000000   627388910       631194460  \n",
            "                           Open   High   Low  Close   Volume  Dividends  \\\n",
            "Date                                                                      \n",
            "2025-03-03 00:00:00-05:00  9.98  10.05  9.58    9.7  3576100        0.0   \n",
            "\n",
            "                           Stock Splits  \n",
            "Date                                     \n",
            "2025-03-03 00:00:00-05:00           0.0  \n",
            "Breakdown                         Value\n",
            "insidersPercentHeld             0.05328\n",
            "institutionsPercentHeld         0.79428\n",
            "institutionsFloatPercentHeld    0.83899\n",
            "institutionsCount             420.00000\n",
            "YF.download() has changed argument auto_adjust default to True\n"
          ]
        },
        {
          "output_type": "stream",
          "name": "stderr",
          "text": [
            "\r[*********************100%***********************]  1 of 1 completed"
          ]
        },
        {
          "output_type": "stream",
          "name": "stdout",
          "text": [
            "Missing Values:\n",
            " Ticker        BGC\n",
            "Date             \n",
            "2015-01-02  False\n",
            "2015-01-05  False\n",
            "2015-01-06  False\n",
            "2015-01-07  False\n",
            "2015-01-08  False\n",
            "...           ...\n",
            "2025-02-10  False\n",
            "2025-02-11  False\n",
            "2025-02-12  False\n",
            "2025-02-13  False\n",
            "2025-02-14  False\n",
            "\n",
            "[2546 rows x 1 columns]\n",
            "[[0.1884329 ]\n",
            " [0.1753604 ]\n",
            " [0.16904961]\n",
            " ...\n",
            " [0.78581787]\n",
            " [0.78901886]\n",
            " [0.77301378]]\n"
          ]
        },
        {
          "output_type": "stream",
          "name": "stderr",
          "text": [
            "\n",
            "<ipython-input-1-2dc8fdade66c>:26: SettingWithCopyWarning: \n",
            "A value is trying to be set on a copy of a slice from a DataFrame\n",
            "\n",
            "See the caveats in the documentation: https://pandas.pydata.org/pandas-docs/stable/user_guide/indexing.html#returning-a-view-versus-a-copy\n",
            "  df.dropna(inplace=True)\n"
          ]
        }
      ],
      "source": [
        "import pandas as pd\n",
        "import numpy as np\n",
        "import yfinance as yf\n",
        "import matplotlib.pyplot as plt\n",
        "import seaborn as sns\n",
        "from sklearn.preprocessing import MinMaxScaler\n",
        "from sklearn.model_selection import train_test_split\n",
        "from tensorflow.keras.models import Sequential\n",
        "from tensorflow.keras.layers import Dense, LSTM\n",
        "import time\n",
        "stock_symbol = 'BGC'\n",
        "'+acquire stock symbol'\n",
        "ticker = yf.Ticker(stock_symbol)\n",
        "'+transform stock so it has yf attributes imposed on it'\n",
        "time.sleep(2)\n",
        "calendar_data = ticker.calendar\n",
        "'+transform data into readable dataframe, but appply calendar which generates the data set.'\n",
        "calendar_df = pd.DataFrame.from_dict(calendar_data, orient='index', columns=[\"Value\"]).T\n",
        "'with calendar_df you refer to dataframe, transpose so columns of index become rows'\n",
        "print(calendar_df)\n",
        "print(ticker.history(period='1d'))\n",
        "print(ticker.major_holders)\n",
        "'place data into a df'\n",
        "data = yf.download(stock_symbol, start=\"2015-01-01\", end=\"2025-02-17\")\n",
        "df = data['Close']\n",
        "df.dropna(inplace=True)\n",
        "\n",
        "# Identify missing values\n",
        "missing_values = df.isna()\n",
        "\n",
        "print(\"Missing Values:\\n\", missing_values)\n",
        "'purpose of min max scaler is to normalise data making it easier for neural network to analyse'\n",
        "scaler = MinMaxScaler(feature_range=(0,1))\n",
        "df_scaled = scaler.fit_transform(df)\n",
        "print(df_scaled)\n",
        "#use last 60 days to predict stock prices\n",
        "def create_sequences(data, time_step = 60 ):\n",
        "    x,y = [],[]\n",
        "    for i in range(len(data)- time_step):\n",
        "        x.append(data[i:i+time_step])#0 to 60 days data, where time_step = 60\n",
        "        y.append(data[i+time_step])#61st piece of data is y append\n",
        "    return np.array(x), np.array(y)#creates arrays running through entirety of data\n",
        "\n",
        "time_step = 60\n",
        "X, y = create_sequences(df_scaled, time_step)\n",
        "\n",
        "# Split into training (80%) and testing (20%) data\n",
        "X_train, X_test, y_train, y_test = train_test_split(X, y, test_size=0.2, random_state=42)\n",
        "\n",
        "# Reshape for LSTM (samples, time_steps, features)\n",
        "X_train = X_train.reshape(X_train.shape[0], time_step, 1)\n",
        "X_test = X_test.reshape(X_test.shape[0], time_step, 1)\n",
        "\n",
        "\n"
      ]
    },
    {
      "cell_type": "code",
      "source": [],
      "metadata": {
        "id": "BWHvaSOFhc-g"
      },
      "execution_count": null,
      "outputs": []
    }
  ]
}